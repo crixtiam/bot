{
 "cells": [
  {
   "cell_type": "markdown",
   "id": "c264f76e",
   "metadata": {},
   "source": [
    "<h4>Librerias</h4>"
   ]
  },
  {
   "cell_type": "code",
   "execution_count": 1,
   "id": "0e79db2a",
   "metadata": {},
   "outputs": [],
   "source": [
    "import re\n",
    "import random"
   ]
  },
  {
   "cell_type": "code",
   "execution_count": 2,
   "id": "a12770e8",
   "metadata": {},
   "outputs": [
    {
     "data": {
      "text/plain": [
       "True"
      ]
     },
     "execution_count": 2,
     "metadata": {},
     "output_type": "execute_result"
    }
   ],
   "source": [
    "'como estas'\n",
    "['como','estas']"
   ]
  },
  {
   "cell_type": "code",
   "execution_count": 3,
   "id": "853e72fc",
   "metadata": {},
   "outputs": [],
   "source": [
    "def get_response(txt):\n",
    "    split_message = re.split(r'\\s|[,:;.?!-_]\\s*f',txt.lower())\n",
    "    #print(split_message)\n",
    "    response = check_all_message(split_message)\n",
    "    \n",
    "    return response"
   ]
  },
  {
   "cell_type": "code",
   "execution_count": 4,
   "id": "54e57c7a",
   "metadata": {},
   "outputs": [],
   "source": [
    "def message_probability(user_msn, recognized_word, single_response=False,required_word = []):\n",
    "    message_certainly = 0\n",
    "    has_required_word = True\n",
    "    for word in user_msn:\n",
    "        if word in recognized_word:\n",
    "            message_certainly+=1\n",
    "    percentage = float(message_certainly)/float(len(recognized_word))\n",
    "    #print(percentage)\n",
    "    for word in required_word:\n",
    "        if word not in user_msn:\n",
    "            has_required_word = False\n",
    "            break\n",
    "    if has_required_word or single_response:\n",
    "        return int(percentage * 100)\n",
    "    else:\n",
    "        return 0\n",
    "    "
   ]
  },
  {
   "cell_type": "code",
   "execution_count": 5,
   "id": "d4f52984",
   "metadata": {},
   "outputs": [],
   "source": [
    "#['como','estas','va','vas','sientes']\n",
    "#['Hola','Que mas','saludos','buenas']"
   ]
  },
  {
   "cell_type": "code",
   "execution_count": 31,
   "id": "04c45e8d",
   "metadata": {},
   "outputs": [],
   "source": [
    "def check_all_message(txt):\n",
    "    \n",
    "    highest_prob = {}    \n",
    "    \n",
    "    def response(bot_response,list_of_words,single_response = False,required_words = []):\n",
    "        nonlocal highest_prob\n",
    "        highest_prob[bot_response]= message_probability(txt,list_of_words,single_response,required_words)\n",
    "    \n",
    "    #llamado a funcion response\n",
    "    #como estas?\n",
    "    response('Hola',txt,single_response=True)\n",
    "    response('Estoy bien y tu?',txt, required_words=['como','estas','que','tal'])\n",
    "    response('Hola este es un punto',txt, required_words=['.',',',';',':'])\n",
    "    \n",
    "    best_match = max(highest_prob,key=highest_prob.get)\n",
    "    print(highest_prob)\n",
    "    #\n",
    "    return unknown() if highest_prob[best_match] < 1 else best_match\n",
    "\n",
    "def unknown():\n",
    "    response = ['puedes decirlo de nuevo ?', 'No estoy seguro de lo que quieres']\n",
    "    return response[random.randrange(2)]\n",
    "    "
   ]
  },
  {
   "cell_type": "code",
   "execution_count": null,
   "id": "372eb705",
   "metadata": {},
   "outputs": [
    {
     "name": "stdout",
     "output_type": "stream",
     "text": [
      "You: .\n",
      "['.']\n",
      "{'Hola': 100, 'Estoy bien y tu?': 0, 'Hola este es un punto': 0}\n",
      "Bot: Hola\n"
     ]
    }
   ],
   "source": [
    "while True:\n",
    "    txt = input(\"You: \")    \n",
    "    print(f'Bot: ' +  get_response(txt))"
   ]
  },
  {
   "cell_type": "code",
   "execution_count": 11,
   "id": "2fe551d4",
   "metadata": {},
   "outputs": [],
   "source": [
    "dictionary ={}\n",
    "dictionary\n",
    "dictionary['hola'] = 54324"
   ]
  },
  {
   "cell_type": "code",
   "execution_count": 12,
   "id": "3cefeda1",
   "metadata": {},
   "outputs": [
    {
     "data": {
      "text/plain": [
       "{'hola': 54324}"
      ]
     },
     "execution_count": 12,
     "metadata": {},
     "output_type": "execute_result"
    }
   ],
   "source": [
    "dictionary"
   ]
  },
  {
   "cell_type": "code",
   "execution_count": null,
   "id": "34db9bd1",
   "metadata": {},
   "outputs": [],
   "source": []
  },
  {
   "cell_type": "code",
   "execution_count": null,
   "id": "6f4382eb",
   "metadata": {},
   "outputs": [],
   "source": []
  },
  {
   "cell_type": "code",
   "execution_count": 29,
   "id": "ba91c219",
   "metadata": {},
   "outputs": [
    {
     "data": {
      "text/plain": [
       "'No estoy seguro de lo que quieres'"
      ]
     },
     "execution_count": 29,
     "metadata": {},
     "output_type": "execute_result"
    }
   ],
   "source": [
    "response = ['puedes decirlo de nuevo ?', 'No estoy seguro de lo que quieres','No te entiendo']\n",
    "response[random.randrange(3)]"
   ]
  },
  {
   "cell_type": "code",
   "execution_count": 30,
   "id": "8bff223e",
   "metadata": {},
   "outputs": [
    {
     "data": {
      "text/plain": [
       "'No te entiendo'"
      ]
     },
     "execution_count": 30,
     "metadata": {},
     "output_type": "execute_result"
    }
   ],
   "source": [
    "response[random.randrange(3)]"
   ]
  },
  {
   "cell_type": "code",
   "execution_count": null,
   "id": "10d021fe",
   "metadata": {},
   "outputs": [],
   "source": []
  }
 ],
 "metadata": {
  "kernelspec": {
   "display_name": "Python 3 (ipykernel)",
   "language": "python",
   "name": "python3"
  },
  "language_info": {
   "codemirror_mode": {
    "name": "ipython",
    "version": 3
   },
   "file_extension": ".py",
   "mimetype": "text/x-python",
   "name": "python",
   "nbconvert_exporter": "python",
   "pygments_lexer": "ipython3",
   "version": "3.10.4"
  }
 },
 "nbformat": 4,
 "nbformat_minor": 5
}
